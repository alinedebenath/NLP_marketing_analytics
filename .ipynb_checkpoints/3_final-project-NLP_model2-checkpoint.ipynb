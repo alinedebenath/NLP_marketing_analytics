{
 "cells": [
  {
   "cell_type": "markdown",
   "metadata": {},
   "source": [
    "## <center>NLP with manual classification</center> \n",
    "Pas à jour - requête twitter api à refaire"
   ]
  },
  {
   "cell_type": "code",
   "execution_count": 146,
   "metadata": {},
   "outputs": [],
   "source": [
    "import pandas as pd\n",
    "pd.set_option('display.max_colwidth', 250)\n",
    "pd.set_option('max_rows', 2500)\n",
    "import pickle\n",
    "from sklearn.model_selection import train_test_split\n",
    "from sklearn.feature_extraction.text import CountVectorizer\n",
    "from sklearn.linear_model import LogisticRegression\n",
    "from sklearn.metrics import accuracy_score, classification_report\n",
    "from sklearn.utils import resample\n",
    "from xgboost import XGBClassifier"
   ]
  },
  {
   "cell_type": "code",
   "execution_count": 147,
   "metadata": {},
   "outputs": [],
   "source": [
    "stopwords=['reformedesretraites','réformedesretraites','retraiter','grevegenerale','reformedesretraites']"
   ]
  },
  {
   "cell_type": "code",
   "execution_count": 148,
   "metadata": {
    "scrolled": false
   },
   "outputs": [],
   "source": [
    "greve_twitter_origin=pd.read_csv('greve_twitter_final00.csv', index_col=[0])"
   ]
  },
  {
   "cell_type": "code",
   "execution_count": 149,
   "metadata": {},
   "outputs": [
    {
     "data": {
      "text/plain": [
       "(32275, 6)"
      ]
     },
     "execution_count": 149,
     "metadata": {},
     "output_type": "execute_result"
    }
   ],
   "source": [
    "greve_twitter_origin.shape"
   ]
  },
  {
   "cell_type": "code",
   "execution_count": 150,
   "metadata": {},
   "outputs": [
    {
     "data": {
      "text/html": [
       "<div>\n",
       "<style scoped>\n",
       "    .dataframe tbody tr th:only-of-type {\n",
       "        vertical-align: middle;\n",
       "    }\n",
       "\n",
       "    .dataframe tbody tr th {\n",
       "        vertical-align: top;\n",
       "    }\n",
       "\n",
       "    .dataframe thead th {\n",
       "        text-align: right;\n",
       "    }\n",
       "</style>\n",
       "<table border=\"1\" class=\"dataframe\">\n",
       "  <thead>\n",
       "    <tr style=\"text-align: right;\">\n",
       "      <th></th>\n",
       "      <th>polarity</th>\n",
       "      <th>date</th>\n",
       "      <th>tweet</th>\n",
       "      <th>tweet_processed</th>\n",
       "      <th>tweet_processed2</th>\n",
       "      <th>polarity2</th>\n",
       "    </tr>\n",
       "  </thead>\n",
       "  <tbody>\n",
       "    <tr>\n",
       "      <th>0</th>\n",
       "      <td>negatif</td>\n",
       "      <td>NaN</td>\n",
       "      <td>Comment les travailleurs belges ont bloqué la #RetraiteParPoints #FiersDeLaGreve #reformedesretraites . #GiletsJaunes #greve31decembre #cgt #fo #sudrail #France #Belgique #BFMTV #lci #cnews</td>\n",
       "      <td>comment travailleurs belges bloqué retraiteparpoints fiersdelagreve reformedesretraites giletsjaunes greve31decembre cgt fo sudrail france belgique bfmtv lci cnews</td>\n",
       "      <td>comment travailleur belge bloquer retraiteparpoints fiersdelagreve reformedesretraites giletsjaunes greve31decembre cgt fo sudrail france belgique bfmtv lci cnews</td>\n",
       "      <td>negatif</td>\n",
       "    </tr>\n",
       "    <tr>\n",
       "      <th>1</th>\n",
       "      <td>negatif</td>\n",
       "      <td>NaN</td>\n",
       "      <td>#Retraites #ReformeRetraites #reformedesretraites #Macron #GiletsJaunes #greve31decembre #CGT #EdouardPhilippe #SNCF #RATP #FiersDeLaGreve 𝟮𝟳 𝗲𝗺𝗲 𝗷𝗼𝘂𝗿 de #Greve contre la Réforme...</td>\n",
       "      <td>retraites reformeretraites reformedesretraites macron giletsjaunes greve31decembre cgt edouardphilippe sncf ratp fiersdelagreve 𝟮𝟳 𝗲𝗺𝗲 𝗷𝗼𝘂𝗿 greve contre réforme</td>\n",
       "      <td>retraiter reformeretraites reformedesretraites macron giletsjaunes greve31decembre cgt edouardphilippe sncf ratp fiersdelagreve 𝟮𝟳 𝗲𝗺𝗲 𝗷𝗼𝘂𝗿 greve contrer réformer</td>\n",
       "      <td>negatif</td>\n",
       "    </tr>\n",
       "    <tr>\n",
       "      <th>2</th>\n",
       "      <td>negatif</td>\n",
       "      <td>NaN</td>\n",
       "      <td>#Réformedesretraites : le ton monte entre le ⁦@gouvernementFR⁩ et la #CGT - Le Parisien</td>\n",
       "      <td>réformedesretraites monte entre cgt parisien</td>\n",
       "      <td>réformedesretraites monter entrer cgt parisien</td>\n",
       "      <td>negatif</td>\n",
       "    </tr>\n",
       "    <tr>\n",
       "      <th>3</th>\n",
       "      <td>negatif</td>\n",
       "      <td>NaN</td>\n",
       "      <td>Apparemment ça dérange beaucoup ! ! #France #greve31decembre #reformedesretraites #GiletsJaunes #Coulommiers #écologie https://twitter.com/franck77120/status/1211370152933167105</td>\n",
       "      <td>apparemment ça dérange beaucoup france greve31decembre reformedesretraites giletsjaunes coulommiers écologie</td>\n",
       "      <td>apparemment ça déranger beaucoup france greve31decembre reformedesretraites giletsjaunes coulommiers écologie</td>\n",
       "      <td>negatif</td>\n",
       "    </tr>\n",
       "    <tr>\n",
       "      <th>4</th>\n",
       "      <td>negatif</td>\n",
       "      <td>NaN</td>\n",
       "      <td>Tout à fait, un stress permanent qui se rajoutera à celui du travail, de la recherche d'un emploi, de la perte d'un emploi #reformedesretraites #RetraiteParPoints .</td>\n",
       "      <td>tout fait stress permanent rajoutera celui travail recherche emploi perte emploi reformedesretraites retraiteparpoints</td>\n",
       "      <td>tout faire stress permanent rajouter celui travail rechercher emploi perte emploi reformedesretraites retraiteparpoints</td>\n",
       "      <td>negatif</td>\n",
       "    </tr>\n",
       "  </tbody>\n",
       "</table>\n",
       "</div>"
      ],
      "text/plain": [
       "  polarity  date  \\\n",
       "0  negatif   NaN   \n",
       "1  negatif   NaN   \n",
       "2  negatif   NaN   \n",
       "3  negatif   NaN   \n",
       "4  negatif   NaN   \n",
       "\n",
       "                                                                                                                                                                                           tweet  \\\n",
       "0  Comment les travailleurs belges ont bloqué la #RetraiteParPoints #FiersDeLaGreve #reformedesretraites . #GiletsJaunes #greve31decembre #cgt #fo #sudrail #France #Belgique #BFMTV #lci #cnews   \n",
       "1          #Retraites #ReformeRetraites #reformedesretraites #Macron #GiletsJaunes #greve31decembre #CGT #EdouardPhilippe #SNCF #RATP #FiersDeLaGreve 𝟮𝟳 𝗲𝗺𝗲 𝗷𝗼𝘂𝗿 de #Greve contre la Réforme...   \n",
       "2                                                                                                        #Réformedesretraites : le ton monte entre le ⁦@gouvernementFR⁩ et la #CGT - Le Parisien   \n",
       "3              Apparemment ça dérange beaucoup ! ! #France #greve31decembre #reformedesretraites #GiletsJaunes #Coulommiers #écologie https://twitter.com/franck77120/status/1211370152933167105   \n",
       "4                           Tout à fait, un stress permanent qui se rajoutera à celui du travail, de la recherche d'un emploi, de la perte d'un emploi #reformedesretraites #RetraiteParPoints .   \n",
       "\n",
       "                                                                                                                                                       tweet_processed  \\\n",
       "0  comment travailleurs belges bloqué retraiteparpoints fiersdelagreve reformedesretraites giletsjaunes greve31decembre cgt fo sudrail france belgique bfmtv lci cnews   \n",
       "1     retraites reformeretraites reformedesretraites macron giletsjaunes greve31decembre cgt edouardphilippe sncf ratp fiersdelagreve 𝟮𝟳 𝗲𝗺𝗲 𝗷𝗼𝘂𝗿 greve contre réforme   \n",
       "2                                                                                                                         réformedesretraites monte entre cgt parisien   \n",
       "3                                                         apparemment ça dérange beaucoup france greve31decembre reformedesretraites giletsjaunes coulommiers écologie   \n",
       "4                                               tout fait stress permanent rajoutera celui travail recherche emploi perte emploi reformedesretraites retraiteparpoints   \n",
       "\n",
       "                                                                                                                                                     tweet_processed2  \\\n",
       "0  comment travailleur belge bloquer retraiteparpoints fiersdelagreve reformedesretraites giletsjaunes greve31decembre cgt fo sudrail france belgique bfmtv lci cnews   \n",
       "1  retraiter reformeretraites reformedesretraites macron giletsjaunes greve31decembre cgt edouardphilippe sncf ratp fiersdelagreve 𝟮𝟳 𝗲𝗺𝗲 𝗷𝗼𝘂𝗿 greve contrer réformer   \n",
       "2                                                                                                                      réformedesretraites monter entrer cgt parisien   \n",
       "3                                                       apparemment ça déranger beaucoup france greve31decembre reformedesretraites giletsjaunes coulommiers écologie   \n",
       "4                                             tout faire stress permanent rajouter celui travail rechercher emploi perte emploi reformedesretraites retraiteparpoints   \n",
       "\n",
       "  polarity2  \n",
       "0   negatif  \n",
       "1   negatif  \n",
       "2   negatif  \n",
       "3   negatif  \n",
       "4   negatif  "
      ]
     },
     "execution_count": 150,
     "metadata": {},
     "output_type": "execute_result"
    }
   ],
   "source": [
    "greve_twitter_origin.head()"
   ]
  },
  {
   "cell_type": "code",
   "execution_count": 151,
   "metadata": {},
   "outputs": [],
   "source": [
    "greve_twitter_origin.tweet_processed2=[x.replace(\"\"\"'\"\"\",'') for x in greve_twitter_origin.tweet_processed2]\n",
    "greve_twitter_origin.date = greve_twitter_origin.date.map(lambda x: str(x)[:-15])"
   ]
  },
  {
   "cell_type": "code",
   "execution_count": 152,
   "metadata": {},
   "outputs": [],
   "source": [
    "index_neg=[31,33,44,46,55,59,61,74,78,108,119,121,130,136,141,149,154,162,168,175,180,186,\n",
    "           187,188,193,199,219,220,240,267,274,276,279,284,289,292,303,312,323,328,330,339,341,\n",
    "           346,347,348,349,361,363,396,403,404,417,440,441,442,447,451,462,465,466,477,487,488,\n",
    "           491,493,496,497,2,20,24,25,28,504,516,521,525,532,536,540,544,545,552,554,557,558,\n",
    "           563,576,579,585,591,592,595,599,602,634,658,659,660,661,675,681,685,688,690,699,709,\n",
    "          711,715,722,723,733,736,746,747,753,756,762,763,764,766,783,788,798,801,803,805,810,\n",
    "           813,816,826,827,828,829,831,839,850,854,856,861,878,889,890,893,900,902,906,908,910,\n",
    "           916,929,930,937,940,953,956,958,966,970,973,976,982,988,997,998,1001,1003,1006,1007,\n",
    "           1008,1010,1011,1030,1031,1026,1034,1036,1037,1038,1039,1040,1042,1047,1049,1051,1053,\n",
    "          1056,1057,1058,1060,1063,1064,1065,1067,1068,1069,1072,1074,1077,1081,1083,1084,1087,\n",
    "          1091,1096,1097,1098,1100,1103,1108,1109,1116,117,1125,1145,1153,1154,1156,1158,1161,\n",
    "          1169,1175,1178,1180,1192,1193,1203,1205,1207,1208,1210,1214,1237,1262,1264,1266,1279,\n",
    "          1280,1282,1290,1293,1298,1305,1314,1316,1343,1345,1350,1351,1352,1353,1354,1356,1357,\n",
    "           1361,1368,1374,1375,1377,1379,1380,1389,1396,1398,1400,1404,1407,1408,1410,1415,1421,\n",
    "           1423,1424,1427,1430,1431,1433,1434,1437,1441,1442,1445,1453,1458,1468,1474,1485,1486,\n",
    "           1493,1494,1495,1500,1501,1507,1509,1512,1517,1522,1527,1528,1530,1543,1544,1550,1553,\n",
    "          1564,1565,1568,1569,1570,1574,1576,1583,1584,1597,1598,1600,1601,1606,1612,1617,1621,\n",
    "          1623,1626,1626,1628,1630,1631,1634,1637,1645,1648,1650,1657,1664,1648,1650,1657,1664,\n",
    "          1666,1669,1672,1673,1674,1682,1683,1690,1694,1696,1698,1700,1701,1702,1704,1705,1706,\n",
    "          1707,1708,1710,1716,1717,1721,1732,1733,1736,1739,1748,1758,1776,1778,1782,1784,1785,\n",
    "          1794, 1797,1799,1814,1826,1832,1835,1838,1839,1840,1842,1846,1849,1854,1856,1882,1883,\n",
    "           1887,1901,1906,1907,1914,1917,1918,1923,1924,1928,1932,1935,1936,1942,1944,1947,1953,\n",
    "          1954,1955,1960,1961,1967,1968,1972,1975,1983,1984,1987,1990,1992,1997,2001,2009,2012,\n",
    "          2017,2020,2022,2033,2040,2041,2042,2045,2047,2048,2053,2056,2060,2062,2063,2064,2065,\n",
    "          2070,2081,2084,2085,2088,2105,2106,2119,2128,2129,2130,2131,2134,2135,2139,2140,2143,\n",
    "          2149,2158,2159,2163,2173,2175,2177,2178,2179,2181,2189,2190,2191,2192,2195,2200,2206,\n",
    "          2207,2215,2221,2224,2226,2228,2233,2235,2240,2241,2242,2243,2249,2252,2253,2256,2257,\n",
    "          2261,2263,2269,2275,2276,2281,2295,2299,2300,2302,2305,2311,2312,2313,2321,2322,2325,\n",
    "          2326,2329,2330,2333,2336,2338,2340,2341,2342,2347,2349,2350,2352,2353,2354,2358,2360,\n",
    "          2361,2364,2366,2367,2372,2379,2381,2383,2385,2394,2400,2402,2403,2405,2406,2411,2413,\n",
    "          2417,2425,2431,2437,2440,2441,2448,2452,2453,2457,2461,2473,2485,2487,2488,2494,2497,\n",
    "          2499,2503,2505,2507,2508,2511,2512,2518,2522,2524,2529,2535,2536,2543,2544,2545,2546,\n",
    "          2547,2549,2551,2553,2554,2558,2561,2565,2569,2571,2572,2573,2574,2576,2583,2585,2586,\n",
    "          2587,2588,2593,2600,2601,2607,2611,2612,2617,2625,2626,2629,2634,2636,2640,2641,2646,\n",
    "          2651,2654,2655,2662,2663,2666,2667,2670,2675,2681,2684,2688,2691,2693,2695,2697,2703,\n",
    "          2715,2718,2724,2729,2730,2731,2734,2746,2753,2754,2757,2764,2765,2766,2768,2776,2777,\n",
    "          2778,2779,2781,2782,2792,2794,2797,2801,2802,2804,2806,2808,2811,2816,2817,2818,2824,\n",
    "          2828,2829,2830,2832,2838,2839,2840,2842,2843,2851,2853,2856,2857,2858,2864,2872,2878,\n",
    "           2894,2898,2899,2901,2902,2905,2909,2913,2919,2920,2924,2929,2931,2932,2936,2937,2939,\n",
    "           2940,2941,2942,2945,2966,2968,2970,2975,2978,2986,2991,2996,2998]\n",
    "index_pos=[14,22,56,79,122,163,195,237,242,253,400,407,408,410,434,435,439,443,457,459,479,\n",
    "          528,569,617,666,741,755,855,919,942,974,975,1027,1055,1167,1179,1465,1513,1520,1614,\n",
    "          1817,1818,1819,1820,2004,2021,2069,2137,2334,2610,2664,2696,2705,2739,2770,2796,2813]\n",
    "greve_twitter_origin['polarity'].iloc[index_neg] = 'negatif'\n",
    "greve_twitter_origin['polarity'].iloc[index_pos] = 'positif'"
   ]
  },
  {
   "cell_type": "code",
   "execution_count": 153,
   "metadata": {},
   "outputs": [
    {
     "data": {
      "text/plain": [
       "negatif    2199\n",
       "positif     801\n",
       "Name: polarity, dtype: int64"
      ]
     },
     "execution_count": 153,
     "metadata": {},
     "output_type": "execute_result"
    }
   ],
   "source": [
    "greve_twitter_train = greve_twitter_origin[0:3000]\n",
    "greve_twitter_train['polarity'].value_counts()"
   ]
  },
  {
   "cell_type": "code",
   "execution_count": 154,
   "metadata": {},
   "outputs": [
    {
     "data": {
      "text/plain": [
       "negatif    2199\n",
       "positif    2199\n",
       "Name: polarity, dtype: int64"
      ]
     },
     "execution_count": 154,
     "metadata": {},
     "output_type": "execute_result"
    }
   ],
   "source": [
    "df_majority = greve_twitter_train[greve_twitter_train.polarity=='negatif']\n",
    "df_minority = greve_twitter_train[greve_twitter_train.polarity=='positif']\n",
    " \n",
    "# Upsample minority class\n",
    "df_minority_upsampled = resample(df_minority, \n",
    "                                 replace=True,     # sample with replacement\n",
    "                                 n_samples=2199,    # to match majority class\n",
    "                                 random_state=123) # reproducible results\n",
    " \n",
    "# Combine majority class with upsampled minority class\n",
    "greve_twitter_train = pd.concat([df_majority, df_minority_upsampled])\n",
    " \n",
    "# Display new class counts\n",
    "greve_twitter_train.polarity.value_counts()"
   ]
  },
  {
   "cell_type": "raw",
   "metadata": {},
   "source": [
    "greve_twitter_train = greve_twitter_origin[0:1000]\n",
    "greve_twitter_test = greve_twitter_origin[1000:-1]\n",
    "greve_twitter_train.to_csv('greve_twitter_train.csv')\n",
    "greve_twitter_test.to_csv('greve_twitter_test.csv')"
   ]
  },
  {
   "cell_type": "code",
   "execution_count": 155,
   "metadata": {},
   "outputs": [],
   "source": [
    "count_vectorizer = CountVectorizer(analyzer='word') \n",
    "cv = count_vectorizer.fit(greve_twitter_train['tweet_processed2'])\n",
    "pickle.dump(cv, open(\"cv1.pkl\", \"wb\"))\n",
    "cv_ = count_vectorizer.fit_transform(greve_twitter_train['tweet_processed2'])\n",
    "cv1 = pickle.load(open(\"cv1.pkl\", 'rb'))\n",
    "cv1_new = CountVectorizer(vocabulary = cv1.vocabulary_)"
   ]
  },
  {
   "cell_type": "code",
   "execution_count": 156,
   "metadata": {},
   "outputs": [],
   "source": [
    "X_train_logreg,X_test_logreg,y_train_logreg,y_test_logreg = train_test_split(cv_,\n",
    "                                                greve_twitter_train['polarity'] , test_size=.2,\n",
    "                                                 random_state=42)"
   ]
  },
  {
   "cell_type": "code",
   "execution_count": 157,
   "metadata": {},
   "outputs": [
    {
     "name": "stdout",
     "output_type": "stream",
     "text": [
      "              precision    recall  f1-score   support\n",
      "\n",
      "     negatif       0.78      0.94      0.85       391\n",
      "     positif       0.94      0.79      0.86       489\n",
      "\n",
      "   micro avg       0.85      0.85      0.85       880\n",
      "   macro avg       0.86      0.86      0.85       880\n",
      "weighted avg       0.87      0.85      0.85       880\n",
      "\n"
     ]
    },
    {
     "name": "stderr",
     "output_type": "stream",
     "text": [
      "C:\\Users\\aline.debenath\\AppData\\Local\\Continuum\\anaconda3\\envs\\spacy\\lib\\site-packages\\sklearn\\linear_model\\logistic.py:433: FutureWarning: Default solver will be changed to 'lbfgs' in 0.22. Specify a solver to silence this warning.\n",
      "  FutureWarning)\n"
     ]
    }
   ],
   "source": [
    "logreg = LogisticRegression(C=1,penalty=\"l2\")\n",
    "logreg.fit(X_train_logreg,y_train_logreg)\n",
    "prediction_logreg = logreg.predict(X_test_logreg)\n",
    "print(classification_report(prediction_logreg,y_test_logreg))"
   ]
  },
  {
   "cell_type": "code",
   "execution_count": 158,
   "metadata": {},
   "outputs": [],
   "source": [
    "greve_twitter_test = greve_twitter_origin#[3000:-1]\n",
    "X_cv2 = cv1_new.transform(greve_twitter_test['tweet_processed2'])\n",
    "greve_twitter_test['polarity']=logreg.predict(X_cv2)\n",
    "#greve_twitter = pd.concat([greve_twitter_train, greve_twitter_test], ignore_index=True)"
   ]
  },
  {
   "cell_type": "code",
   "execution_count": 159,
   "metadata": {},
   "outputs": [
    {
     "data": {
      "text/plain": [
       "negatif    19395\n",
       "positif    12880\n",
       "Name: polarity, dtype: int64"
      ]
     },
     "execution_count": 159,
     "metadata": {},
     "output_type": "execute_result"
    }
   ],
   "source": [
    "greve_twitter_test.polarity.value_counts()"
   ]
  },
  {
   "cell_type": "code",
   "execution_count": 113,
   "metadata": {},
   "outputs": [],
   "source": [
    "#grevetwitter = greve_twitter.drop(columns='polarity2',inplace=True)\n",
    "greve_twitter.to_csv('greve_twitter_classif2.csv')"
   ]
  },
  {
   "cell_type": "code",
   "execution_count": null,
   "metadata": {},
   "outputs": [],
   "source": []
  }
 ],
 "metadata": {
  "kernelspec": {
   "display_name": "Python 3",
   "language": "python",
   "name": "python3"
  },
  "language_info": {
   "codemirror_mode": {
    "name": "ipython",
    "version": 3
   },
   "file_extension": ".py",
   "mimetype": "text/x-python",
   "name": "python",
   "nbconvert_exporter": "python",
   "pygments_lexer": "ipython3",
   "version": "3.7.6"
  }
 },
 "nbformat": 4,
 "nbformat_minor": 2
}
