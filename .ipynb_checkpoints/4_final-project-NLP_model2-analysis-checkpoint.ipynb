{
 "cells": [
  {
   "cell_type": "code",
   "execution_count": 4,
   "metadata": {},
   "outputs": [],
   "source": [
    "import pandas as pd\n",
    "pd.set_option('display.max_colwidth', 250)\n",
    "pd.set_option('max_rows', 2500)\n",
    "import matplotlib.pylab as plt\n",
    "import matplotlib.dates as mdates\n",
    "import os\n",
    "import numpy as np\n",
    "import nltk\n",
    "import pickle\n",
    "import gensim\n",
    "from wordcloud import WordCloud\n",
    "from datetime import datetime\n",
    "from PIL import Image\n",
    "from gensim import corpora\n",
    "from nltk.tag.stanford import StanfordPOSTagger\n",
    "from nltk.tokenize import word_tokenize\n",
    "from nltk.corpus import stopwords"
   ]
  },
  {
   "cell_type": "code",
   "execution_count": 5,
   "metadata": {},
   "outputs": [],
   "source": [
    "greve_twitter = pd.read_csv('greve_twitter_classif2.csv',index_col=[0])"
   ]
  },
  {
   "cell_type": "code",
   "execution_count": 6,
   "metadata": {},
   "outputs": [
    {
     "ename": "AttributeError",
     "evalue": "'DataFrame' object has no attribute 'polarity2'",
     "output_type": "error",
     "traceback": [
      "\u001b[1;31m---------------------------------------------------------------------------\u001b[0m",
      "\u001b[1;31mAttributeError\u001b[0m                            Traceback (most recent call last)",
      "\u001b[1;32m<ipython-input-6-d3c9f730afce>\u001b[0m in \u001b[0;36m<module>\u001b[1;34m\u001b[0m\n\u001b[1;32m----> 1\u001b[1;33m \u001b[0mgreve_twitter\u001b[0m\u001b[1;33m.\u001b[0m\u001b[0mpolarity2\u001b[0m\u001b[1;33m.\u001b[0m\u001b[0mvalue_counts\u001b[0m\u001b[1;33m(\u001b[0m\u001b[1;33m)\u001b[0m\u001b[1;33m.\u001b[0m\u001b[0mplot\u001b[0m\u001b[1;33m.\u001b[0m\u001b[0mpie\u001b[0m\u001b[1;33m(\u001b[0m\u001b[0mfigsize\u001b[0m\u001b[1;33m=\u001b[0m\u001b[1;33m(\u001b[0m\u001b[1;36m7\u001b[0m\u001b[1;33m,\u001b[0m\u001b[1;36m7\u001b[0m\u001b[1;33m)\u001b[0m\u001b[1;33m,\u001b[0m \u001b[0mautopct\u001b[0m\u001b[1;33m=\u001b[0m\u001b[1;34m'%.2f'\u001b[0m\u001b[1;33m)\u001b[0m\u001b[1;33m\u001b[0m\u001b[1;33m\u001b[0m\u001b[0m\n\u001b[0m\u001b[0;32m      2\u001b[0m \u001b[0mplt\u001b[0m\u001b[1;33m.\u001b[0m\u001b[0mlegend\u001b[0m\u001b[1;33m(\u001b[0m\u001b[1;33m)\u001b[0m\u001b[1;33m\u001b[0m\u001b[1;33m\u001b[0m\u001b[0m\n\u001b[0;32m      3\u001b[0m \u001b[0mplt\u001b[0m\u001b[1;33m.\u001b[0m\u001b[0msavefig\u001b[0m\u001b[1;33m(\u001b[0m\u001b[1;34m'greve_pie.png'\u001b[0m\u001b[1;33m)\u001b[0m\u001b[1;33m\u001b[0m\u001b[1;33m\u001b[0m\u001b[0m\n\u001b[0;32m      4\u001b[0m \u001b[0mplt\u001b[0m\u001b[1;33m.\u001b[0m\u001b[0mshow\u001b[0m\u001b[1;33m(\u001b[0m\u001b[1;33m)\u001b[0m\u001b[1;33m\u001b[0m\u001b[1;33m\u001b[0m\u001b[0m\n",
      "\u001b[1;32m~\\AppData\\Local\\Continuum\\anaconda3\\envs\\spacy\\lib\\site-packages\\pandas\\core\\generic.py\u001b[0m in \u001b[0;36m__getattr__\u001b[1;34m(self, name)\u001b[0m\n\u001b[0;32m   5272\u001b[0m             \u001b[1;32mif\u001b[0m \u001b[0mself\u001b[0m\u001b[1;33m.\u001b[0m\u001b[0m_info_axis\u001b[0m\u001b[1;33m.\u001b[0m\u001b[0m_can_hold_identifiers_and_holds_name\u001b[0m\u001b[1;33m(\u001b[0m\u001b[0mname\u001b[0m\u001b[1;33m)\u001b[0m\u001b[1;33m:\u001b[0m\u001b[1;33m\u001b[0m\u001b[1;33m\u001b[0m\u001b[0m\n\u001b[0;32m   5273\u001b[0m                 \u001b[1;32mreturn\u001b[0m \u001b[0mself\u001b[0m\u001b[1;33m[\u001b[0m\u001b[0mname\u001b[0m\u001b[1;33m]\u001b[0m\u001b[1;33m\u001b[0m\u001b[1;33m\u001b[0m\u001b[0m\n\u001b[1;32m-> 5274\u001b[1;33m             \u001b[1;32mreturn\u001b[0m \u001b[0mobject\u001b[0m\u001b[1;33m.\u001b[0m\u001b[0m__getattribute__\u001b[0m\u001b[1;33m(\u001b[0m\u001b[0mself\u001b[0m\u001b[1;33m,\u001b[0m \u001b[0mname\u001b[0m\u001b[1;33m)\u001b[0m\u001b[1;33m\u001b[0m\u001b[1;33m\u001b[0m\u001b[0m\n\u001b[0m\u001b[0;32m   5275\u001b[0m \u001b[1;33m\u001b[0m\u001b[0m\n\u001b[0;32m   5276\u001b[0m     \u001b[1;32mdef\u001b[0m \u001b[0m__setattr__\u001b[0m\u001b[1;33m(\u001b[0m\u001b[0mself\u001b[0m\u001b[1;33m,\u001b[0m \u001b[0mname\u001b[0m\u001b[1;33m:\u001b[0m \u001b[0mstr\u001b[0m\u001b[1;33m,\u001b[0m \u001b[0mvalue\u001b[0m\u001b[1;33m)\u001b[0m \u001b[1;33m->\u001b[0m \u001b[1;32mNone\u001b[0m\u001b[1;33m:\u001b[0m\u001b[1;33m\u001b[0m\u001b[1;33m\u001b[0m\u001b[0m\n",
      "\u001b[1;31mAttributeError\u001b[0m: 'DataFrame' object has no attribute 'polarity2'"
     ]
    }
   ],
   "source": [
    "greve_twitter.polarity.value_counts().plot.pie(figsize=(7,7), autopct='%.2f')\n",
    "plt.legend()\n",
    "plt.savefig('greve_pie.png')\n",
    "plt.show()"
   ]
  },
  {
   "cell_type": "code",
   "execution_count": null,
   "metadata": {},
   "outputs": [],
   "source": [
    "twitter_mask = np.array(Image.open(\"./twitter_mask.png\")) \n",
    "stopwords=['reformedesretraites','réformedesretraites','retraiter','grevegenerale']\n",
    "all_text= ' '.join([x for x in greve_twitter.tweet_processed2])\n",
    "wordcloud = WordCloud(background_color='white',random_state=21,\n",
    "                      max_font_size=110,width=1800,\n",
    "                      height=1400,\n",
    "                      stopwords=stopwords,mask=twitter_mask).generate(all_text)\n",
    "plt.imshow(wordcloud)\n",
    "plt.axis(\"off\")\n",
    "plt.savefig('./my_twitter_wordcloud_2.png', dpi=1200)\n",
    "plt.show()"
   ]
  },
  {
   "cell_type": "code",
   "execution_count": null,
   "metadata": {},
   "outputs": [],
   "source": [
    "greve_twitter.date = greve_twitter.date.map(lambda x: str(x)[:-15])"
   ]
  },
  {
   "cell_type": "code",
   "execution_count": null,
   "metadata": {},
   "outputs": [],
   "source": [
    "greve_twitter['date']= pd.to_datetime(greve_twitter['date'])"
   ]
  },
  {
   "cell_type": "code",
   "execution_count": null,
   "metadata": {},
   "outputs": [],
   "source": [
    "data = greve_twitter.groupby([\"date\",\"polarity2\"]).size()#/data.polarity2.count()*100\n",
    "data_perc = data.unstack()\n",
    "data_perc = data_perc.divide(data_perc.sum(axis=1),axis=0)*100\n",
    "ax = data_perc.plot.area(figsize=(13,10), colormap='RdYlGn',ylim=(0,100))\n",
    "plt.title(\"Evolution de l'opinion en pourcentage\")\n",
    "plt.show()"
   ]
  },
  {
   "cell_type": "code",
   "execution_count": null,
   "metadata": {},
   "outputs": [],
   "source": [
    "data = greve_twitter.groupby([\"date\",\"polarity2\"]).size()\n",
    "ax= data.unstack().plot(figsize=(20,10),rot=70)\n",
    "ax.xaxis.set_major_formatter(mdates.DateFormatter('%d\\n%a'))\n",
    "ax.xaxis.set_minor_formatter(mdates.DateFormatter('%d\\n%a'))\n",
    "plt.title(\"Evolution de l'opinion\")\n",
    "plt.show\n",
    "#début grève 5/12, PM 'transitions progressives', manif 10/12,démission Delevoye 16/12, \n",
    "# manif 17/12 (3x plus de manif que le 10), 27/12 cap de la plus longue grève contre retraites (1995)"
   ]
  },
  {
   "cell_type": "code",
   "execution_count": null,
   "metadata": {},
   "outputs": [],
   "source": [
    "#séparation des dataframes en positif et negatif\n",
    "greve_negatif = greve_twitter[greve_twitter.polarity=='negatif']\n",
    "greve_positif = greve_twitter[greve_twitter.polarity=='positif']"
   ]
  },
  {
   "cell_type": "code",
   "execution_count": null,
   "metadata": {},
   "outputs": [],
   "source": [
    "#df négatifs + wordcloud\n",
    "text_negatif = ' '.join([x for x in greve_negatif.tweet_processed2])\n",
    "sad_mask = np.array(Image.open(\"./sad.png\"))\n",
    "all_text= ' '.join([x for x in greve_twitter.tweet_processed2])\n",
    "wordcloud = WordCloud(background_color='white',random_state=21,\n",
    "                      max_font_size=110, width=1800,\n",
    "                      height=1400,\n",
    "                      stopwords=stopwords,mask=sad_mask).generate(text_negatif)\n",
    "plt.imshow(wordcloud)\n",
    "plt.axis(\"off\")\n",
    "plt.savefig('./sad_wordcloud.png', dpi=1200)\n",
    "plt.show()"
   ]
  },
  {
   "cell_type": "code",
   "execution_count": null,
   "metadata": {},
   "outputs": [],
   "source": [
    "neg_word=greve_negatif.tweet_processed2.str.split(expand=True).stack().value_counts()\n",
    "neg_word.head(10)"
   ]
  },
  {
   "cell_type": "code",
   "execution_count": null,
   "metadata": {},
   "outputs": [],
   "source": [
    "#df positifs + wordcloud\n",
    "text_positif = ' '.join([x for x in greve_positif.tweet_processed2])\n",
    "happy_mask = np.array(Image.open(\"./happy.png\")) \n",
    "stopwords=['reformedesretraites','réformedesretraites','retraiter','grevegenerale']\n",
    "all_text= ' '.join([x for x in greve_twitter.tweet_processed2])\n",
    "wordcloud = WordCloud(background_color='white',random_state=21,\n",
    "                      max_font_size=110,width=1800,\n",
    "                      height=1400,\n",
    "                      stopwords=stopwords,mask=happy_mask).generate(text_positif)\n",
    "plt.imshow(wordcloud)\n",
    "plt.axis(\"off\")\n",
    "plt.savefig('./happy_wordcloud.png', dpi=1200)\n",
    "plt.show()"
   ]
  },
  {
   "cell_type": "code",
   "execution_count": null,
   "metadata": {},
   "outputs": [],
   "source": [
    "text_positifok = text_positif.split()"
   ]
  },
  {
   "cell_type": "code",
   "execution_count": null,
   "metadata": {},
   "outputs": [],
   "source": [
    "len(text_positifok)"
   ]
  },
  {
   "cell_type": "code",
   "execution_count": null,
   "metadata": {},
   "outputs": [],
   "source": [
    "pos_word=greve_positif.tweet_processed2.str.split(expand=True).stack().value_counts()\n",
    "pos_word.head(10)"
   ]
  },
  {
   "cell_type": "code",
   "execution_count": null,
   "metadata": {},
   "outputs": [],
   "source": [
    "stopwords0=['réformedesretraites','retraiter','grevegenerale','reformedesretraites']\n",
    "text_data=[]\n",
    "text_data1=[]\n",
    "text_data0 = greve_twitter['tweet_processed2'].tolist()\n",
    "for x in text_data0:\n",
    "    text_data1.append(nltk.word_tokenize(x))\n",
    "for y in text_data1:\n",
    "    y=[word for word in y if word not in stopwords0]\n",
    "    text_data.append(y)"
   ]
  },
  {
   "cell_type": "code",
   "execution_count": null,
   "metadata": {},
   "outputs": [],
   "source": [
    "dictionary = corpora.Dictionary(text_data)\n",
    "corpus = [dictionary.doc2bow(x) for x in text_data if x not in stopwords0]\n",
    "pickle.dump(corpus, open('corpus.pkl', 'wb'))\n",
    "dictionary.save('dictionary.gensim')"
   ]
  },
  {
   "cell_type": "code",
   "execution_count": null,
   "metadata": {},
   "outputs": [],
   "source": [
    "NUM_TOPICS = 5\n",
    "ldamodel = gensim.models.ldamodel.LdaModel(corpus, num_topics = NUM_TOPICS, id2word=dictionary, passes=15)\n",
    "ldamodel.save('model5.gensim')\n",
    "topics = ldamodel.print_topics(num_words=10)\n",
    "for topic in topics:\n",
    "    print(topic)"
   ]
  },
  {
   "cell_type": "code",
   "execution_count": null,
   "metadata": {},
   "outputs": [],
   "source": [
    "d = {}\n",
    "x=0\n",
    "while x < len(topics):\n",
    "    for topic[x] in topics:\n",
    "        topic[x] = list(topic[x])\n",
    "        topic[x] = \"\".join(map(str,topic[x]))\n",
    "        topic[x] = topic[x].split('\"')[1::2]\n",
    "        x+=1\n",
    "topic"
   ]
  },
  {
   "cell_type": "code",
   "execution_count": null,
   "metadata": {},
   "outputs": [],
   "source": [
    "df_topic1 = pd.DataFrame(topic[1], columns=['words'])\n",
    "df_topic2 = pd.DataFrame(topic[2], columns=['words'])\n",
    "df_topic3 = pd.DataFrame(topic[3], columns=['words'])\n",
    "df_topic4 = pd.DataFrame(topic[4], columns=['words'])\n",
    "df_topic5 = pd.DataFrame(topic[0], columns=['words'])"
   ]
  },
  {
   "cell_type": "code",
   "execution_count": null,
   "metadata": {},
   "outputs": [],
   "source": [
    "df_topic1"
   ]
  },
  {
   "cell_type": "code",
   "execution_count": null,
   "metadata": {},
   "outputs": [],
   "source": [
    "df_topic2"
   ]
  },
  {
   "cell_type": "code",
   "execution_count": null,
   "metadata": {},
   "outputs": [],
   "source": [
    "df_topic3"
   ]
  },
  {
   "cell_type": "code",
   "execution_count": null,
   "metadata": {},
   "outputs": [],
   "source": [
    "df_topic4"
   ]
  },
  {
   "cell_type": "code",
   "execution_count": null,
   "metadata": {},
   "outputs": [],
   "source": [
    "df_topic5"
   ]
  },
  {
   "cell_type": "code",
   "execution_count": null,
   "metadata": {},
   "outputs": [],
   "source": [
    "java_path = \"C:\\\\Program Files (x86)\\\\Java\\\\jre1.8.0_231\\\\bin\\\\java.exe\"\n",
    "os.environ['JAVAHOME'] = java_path\n",
    "path_to_model = \"./stanford-postagger-full-2018-10-16/models/french.tagger\"\n",
    "path_to_jar = \"./stanford-postagger-full-2018-10-16/stanford-postagger.jar\"\n",
    "tagger=StanfordPOSTagger(path_to_model, path_to_jar)\n",
    "\n",
    "print(tagger.tag(sentence.split()))"
   ]
  },
  {
   "cell_type": "code",
   "execution_count": null,
   "metadata": {},
   "outputs": [],
   "source": [
    "adj_pos1 = [word for word, tags in tagger.tag(text_positif.split()[0:6999]) if tags==('ADJ')] "
   ]
  },
  {
   "cell_type": "code",
   "execution_count": null,
   "metadata": {},
   "outputs": [],
   "source": [
    "adj_pos2 = [word for word, tags in tagger.tag(text_positif.split()[7000:13999]) if tags==('ADJ')] "
   ]
  },
  {
   "cell_type": "code",
   "execution_count": null,
   "metadata": {},
   "outputs": [],
   "source": [
    "adj_pos3 = [word for word, tags in tagger.tag(text_positif.split()[15000:20999]) if tags==('ADJ')] "
   ]
  },
  {
   "cell_type": "code",
   "execution_count": null,
   "metadata": {},
   "outputs": [],
   "source": [
    "adj_pos4 = [word for word, tags in tagger.tag(text_positif.split()[22000:27999]) if tags==('ADJ')] "
   ]
  },
  {
   "cell_type": "code",
   "execution_count": null,
   "metadata": {},
   "outputs": [],
   "source": [
    "adj_pos5 = [word for word, tags in tagger.tag(text_positif.split()[28000:32999]) if tags==('ADJ')] "
   ]
  },
  {
   "cell_type": "code",
   "execution_count": null,
   "metadata": {},
   "outputs": [],
   "source": [
    "adj_pos6 = [word for word, tags in tagger.tag(text_positif.split()[35000:40999]) if tags==('ADJ')] "
   ]
  },
  {
   "cell_type": "code",
   "execution_count": null,
   "metadata": {},
   "outputs": [],
   "source": [
    "adj_pos7 = [word for word, tags in tagger.tag(text_positif.split()[42000:47999]) if tags==('ADJ')] "
   ]
  },
  {
   "cell_type": "code",
   "execution_count": null,
   "metadata": {},
   "outputs": [],
   "source": [
    "adj_pos8 = [word for word, tags in tagger.tag(text_positif.split()[48000:53999]) if tags==('ADJ')] "
   ]
  },
  {
   "cell_type": "code",
   "execution_count": null,
   "metadata": {},
   "outputs": [],
   "source": [
    "adj_pos9 = [word for word, tags in tagger.tag(text_positif.split()[55000:59999]) if tags==('ADJ')] "
   ]
  },
  {
   "cell_type": "code",
   "execution_count": null,
   "metadata": {},
   "outputs": [],
   "source": [
    "adj_pos10 = [word for word, tags in tagger.tag(text_positif.split()[60000:64999]) if tags==('ADJ')] "
   ]
  },
  {
   "cell_type": "code",
   "execution_count": null,
   "metadata": {},
   "outputs": [],
   "source": [
    "adj_pos11 = [word for word, tags in tagger.tag(text_positif.split()[65000:69999]) if tags==('ADJ')] "
   ]
  },
  {
   "cell_type": "code",
   "execution_count": null,
   "metadata": {},
   "outputs": [],
   "source": [
    "adj_pos12 = [word for word, tags in tagger.tag(text_positif.split()[70000:74999]) if tags==('ADJ')] "
   ]
  },
  {
   "cell_type": "code",
   "execution_count": null,
   "metadata": {},
   "outputs": [],
   "source": [
    "adj_pos13 = [word for word, tags in tagger.tag(text_positif.split()[75000:79999]) if tags==('ADJ')] "
   ]
  },
  {
   "cell_type": "code",
   "execution_count": null,
   "metadata": {},
   "outputs": [],
   "source": [
    "adj_pos14 = [word for word, tags in tagger.tag(text_positif.split()[80000:84999]) if tags==('ADJ')] "
   ]
  },
  {
   "cell_type": "code",
   "execution_count": null,
   "metadata": {},
   "outputs": [],
   "source": [
    "adj_pos15 = [word for word, tags in tagger.tag(text_positif.split()[85000:89999]) if tags==('ADJ')] "
   ]
  },
  {
   "cell_type": "code",
   "execution_count": null,
   "metadata": {},
   "outputs": [],
   "source": [
    "adj_pos16 = [word for word, tags in tagger.tag(text_positif.split()[90000:94999]) if tags==('ADJ')] "
   ]
  },
  {
   "cell_type": "code",
   "execution_count": null,
   "metadata": {},
   "outputs": [],
   "source": [
    "adj_pos17 = [word for word, tags in tagger.tag(text_positif.split()[95000:99999]) if tags==('ADJ')] "
   ]
  },
  {
   "cell_type": "code",
   "execution_count": null,
   "metadata": {},
   "outputs": [],
   "source": [
    "adj_pos18 = [word for word, tags in tagger.tag(text_positif.split()[100000:104999]) if tags==('ADJ')] "
   ]
  },
  {
   "cell_type": "code",
   "execution_count": null,
   "metadata": {},
   "outputs": [],
   "source": [
    "adj_pos19 = [word for word, tags in tagger.tag(text_positif.split()[105000:109999]) if tags==('ADJ')] "
   ]
  },
  {
   "cell_type": "code",
   "execution_count": null,
   "metadata": {},
   "outputs": [],
   "source": [
    "adj_pos20 = [word for word, tags in tagger.tag(text_positif.split()[110000:114999]) if tags==('ADJ')] "
   ]
  },
  {
   "cell_type": "code",
   "execution_count": null,
   "metadata": {},
   "outputs": [],
   "source": [
    "adj_pos21 = [word for word, tags in tagger.tag(text_positif.split()[115000:119999]) if tags==('ADJ')] "
   ]
  },
  {
   "cell_type": "code",
   "execution_count": null,
   "metadata": {},
   "outputs": [],
   "source": [
    "adj_pos22 = [word for word, tags in tagger.tag(text_positif.split()[120000:124999]) if tags==('ADJ')] "
   ]
  },
  {
   "cell_type": "code",
   "execution_count": null,
   "metadata": {},
   "outputs": [],
   "source": [
    "adj_pos23 = [word for word, tags in tagger.tag(text_positif.split()[125000:129999]) if tags==('ADJ')] "
   ]
  },
  {
   "cell_type": "code",
   "execution_count": null,
   "metadata": {},
   "outputs": [],
   "source": [
    "adj_pos24 = [word for word, tags in tagger.tag(text_positif.split()[130000:134999]) if tags==('ADJ')] "
   ]
  },
  {
   "cell_type": "code",
   "execution_count": null,
   "metadata": {},
   "outputs": [],
   "source": [
    "adj_pos25 = [word for word, tags in tagger.tag(text_positif.split()[160000:165999]) if tags==('ADJ')] "
   ]
  },
  {
   "cell_type": "code",
   "execution_count": null,
   "metadata": {},
   "outputs": [],
   "source": [
    "adj_pos26 = [word for word, tags in tagger.tag(text_positif.split()[167000:171999]) if tags==('ADJ')] "
   ]
  },
  {
   "cell_type": "code",
   "execution_count": null,
   "metadata": {},
   "outputs": [],
   "source": [
    "adj_pos27 = [word for word, tags in tagger.tag(text_positif.split()[173000:177999]) if tags==('ADJ')] "
   ]
  },
  {
   "cell_type": "code",
   "execution_count": null,
   "metadata": {},
   "outputs": [],
   "source": [
    "adj_pos28 = [word for word, tags in tagger.tag(text_positif.split()[198000:-1]) if tags==('ADJ')] "
   ]
  },
  {
   "cell_type": "code",
   "execution_count": null,
   "metadata": {},
   "outputs": [],
   "source": [
    "adj_pos = adj_pos1+adj_pos2+adj_pos3+adj_pos4+adj_pos5+adj_pos6+adj_pos7+adj_pos8+adj_pos9+adj_pos10+adj_pos11+adj_pos12+adj_pos13+adj_pos14+adj_pos15+adj_pos16+adj_pos17+adj_pos18+adj_pos19+adj_pos20+adj_pos21+adj_pos22+adj_pos23+adj_pos24+adj_pos25+adj_pos26+adj_pos27+adj_pos28\n"
   ]
  },
  {
   "cell_type": "code",
   "execution_count": null,
   "metadata": {},
   "outputs": [],
   "source": [
    "stopwords=['reformedesretraites','réformedesretraites','retraiter','grevegenerale','giletsjaunes','greve17decembre','17decembre2019','noël','ratp','greve','macron','autre','delevoye','grevedu17decembre','tout']"
   ]
  },
  {
   "cell_type": "code",
   "execution_count": null,
   "metadata": {},
   "outputs": [],
   "source": [
    "for word in adj_pos:\n",
    "    if word in stopwords:\n",
    "        adj_pos.remove(word)"
   ]
  },
  {
   "cell_type": "code",
   "execution_count": null,
   "metadata": {},
   "outputs": [],
   "source": [
    "df=pd.DataFrame.from_dict(nltk.FreqDist(adj_pos),orient='index')\n",
    "df = df.sort_values(by=0, ascending=False).reset_index()\n",
    "df.columns=['mot','freq']\n",
    "df.head(10)"
   ]
  },
  {
   "cell_type": "code",
   "execution_count": null,
   "metadata": {},
   "outputs": [],
   "source": [
    "adj_pos = ' '.join(adj_pos)\n",
    "wordcloud = WordCloud(width=800, height=500, random_state=21,max_font_size=110,stopwords=stopwords).generate(adj_pos)\n",
    "plt.imshow(wordcloud, interpolation=\"bilinear\")\n",
    "plt.axis('off')\n",
    "plt.savefig('greve_pos_mots.png')"
   ]
  },
  {
   "cell_type": "code",
   "execution_count": null,
   "metadata": {},
   "outputs": [],
   "source": []
  }
 ],
 "metadata": {
  "kernelspec": {
   "display_name": "Python 3",
   "language": "python",
   "name": "python3"
  },
  "language_info": {
   "codemirror_mode": {
    "name": "ipython",
    "version": 3
   },
   "file_extension": ".py",
   "mimetype": "text/x-python",
   "name": "python",
   "nbconvert_exporter": "python",
   "pygments_lexer": "ipython3",
   "version": "3.7.6"
  }
 },
 "nbformat": 4,
 "nbformat_minor": 2
}
